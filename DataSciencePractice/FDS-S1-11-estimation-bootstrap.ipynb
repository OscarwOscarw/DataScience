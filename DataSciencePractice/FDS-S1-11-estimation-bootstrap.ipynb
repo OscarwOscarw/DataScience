{
 "cells": [
  {
   "cell_type": "markdown",
   "metadata": {},
   "source": [
    "# Inf2 - Foundations of Data Science\n",
    "## S2 Week 11: Estimation of confidence intervals with the bootstrap\n",
    "\n",
    "**Learning outcomes:** In this lab you will use statistical simulations to undertake bootstrap estimation of confidence intervals. By the end of this lab you should be able to:\n",
    "- code the bootstrap estimator for a number of estimators\n",
    "- validate statistical coding by comparing the output of functions with known results\n",
    "- interpret the output\n",
    "- compare the output with confidence intervals obtained by other methods\n",
    "\n",
    "This lab relates to the material in the topics on estimation and confidence intervals."
   ]
  },
  {
   "cell_type": "code",
   "execution_count": 1,
   "metadata": {},
   "outputs": [],
   "source": [
    "import numpy as np\n",
    "import pandas as pd\n",
    "import matplotlib\n",
    "%matplotlib inline\n",
    "import matplotlib.pyplot as plt\n",
    "import seaborn as sns\n",
    "import statsmodels.formula.api as smf # Regression library\n",
    "from scipy.stats import norm # Object to with member functions to do with normal distributions\n",
    "# Package to display the hints and soultions\n",
    "from common.show_solutions import show"
   ]
  },
  {
   "cell_type": "markdown",
   "metadata": {},
   "source": [
    "## A. Bootstrap - confidence intervals\n",
    "\n",
    "Confidence intervals give us an indication of how sure we can be that an estimate lies within particular bounds. More precisely, we can state with a specified degree of certainty the chance that the true parameter lies in the confidence interval. For example, a 95% confidence interval has a chance of 0.95 of containing the true value. There is a trade-off between width and certainty: we can increase the width of the interval to be more certain (e.g. 99% certain).\n",
    "\n",
    "We'll finish off what we started on the basketball data set in the previous lab. We had got to the point of generating the sample mean of samples of the age and salary. We'd now like to extend that code to generate confidence intervals for various statistics in the dataset. "
   ]
  },
  {
   "cell_type": "code",
   "execution_count": 2,
   "metadata": {},
   "outputs": [
    {
     "data": {
      "text/html": [
       "<div>\n",
       "<style scoped>\n",
       "    .dataframe tbody tr th:only-of-type {\n",
       "        vertical-align: middle;\n",
       "    }\n",
       "\n",
       "    .dataframe tbody tr th {\n",
       "        vertical-align: top;\n",
       "    }\n",
       "\n",
       "    .dataframe thead th {\n",
       "        text-align: right;\n",
       "    }\n",
       "</style>\n",
       "<table border=\"1\" class=\"dataframe\">\n",
       "  <thead>\n",
       "    <tr style=\"text-align: right;\">\n",
       "      <th></th>\n",
       "      <th>PlayerName</th>\n",
       "      <th>Salary</th>\n",
       "    </tr>\n",
       "  </thead>\n",
       "  <tbody>\n",
       "    <tr>\n",
       "      <th>0</th>\n",
       "      <td>Kobe Bryant</td>\n",
       "      <td>23500000</td>\n",
       "    </tr>\n",
       "    <tr>\n",
       "      <th>1</th>\n",
       "      <td>Amar'e Stoudemire</td>\n",
       "      <td>23410988</td>\n",
       "    </tr>\n",
       "    <tr>\n",
       "      <th>2</th>\n",
       "      <td>Joe Johnson</td>\n",
       "      <td>23180790</td>\n",
       "    </tr>\n",
       "    <tr>\n",
       "      <th>3</th>\n",
       "      <td>Carmelo Anthony</td>\n",
       "      <td>22458401</td>\n",
       "    </tr>\n",
       "    <tr>\n",
       "      <th>4</th>\n",
       "      <td>Dwight Howard</td>\n",
       "      <td>21436271</td>\n",
       "    </tr>\n",
       "  </tbody>\n",
       "</table>\n",
       "</div>"
      ],
      "text/plain": [
       "          PlayerName    Salary\n",
       "0        Kobe Bryant  23500000\n",
       "1  Amar'e Stoudemire  23410988\n",
       "2        Joe Johnson  23180790\n",
       "3    Carmelo Anthony  22458401\n",
       "4      Dwight Howard  21436271"
      ]
     },
     "execution_count": 2,
     "metadata": {},
     "output_type": "execute_result"
    }
   ],
   "source": [
    "player_data = pd.read_csv(\"datasets/player_data.csv\")\n",
    "salary_data = pd.read_csv(\"datasets/salary_data.csv\")\n",
    "full_data = pd.merge(salary_data, player_data,\n",
    "                     left_on=\"PlayerName\", right_on=\"Name\")\n",
    "full_data['Salary']=full_data['Salary']/1000000\n",
    "salary_data.head()"
   ]
  },
  {
   "cell_type": "markdown",
   "metadata": {},
   "source": [
    "**Exercise 01:** Using the code from last week, and the information in the lecture notes, write a bootstrap estimation routine with $k=1000$ replications to:\n",
    "1. plot the sampling distribution of the mean.\n",
    "2. find a 95% confidence interval for the mean of the salary data."
   ]
  },
  {
   "cell_type": "code",
   "execution_count": 3,
   "metadata": {},
   "outputs": [
    {
     "data": {
      "application/vnd.jupyter.widget-view+json": {
       "model_id": "36402b7aa4004f579d256c88ccd1d6f5",
       "version_major": 2,
       "version_minor": 0
      },
      "text/plain": [
       "Tab(children=(Accordion(), Accordion(children=(Output(layout=Layout(border_bottom='2px solid green', border_le…"
      ]
     },
     "metadata": {},
     "output_type": "display_data"
    }
   ],
   "source": [
    "# Run this cell to be offered with hints and solution\n",
    "show(question=1)"
   ]
  },
  {
   "cell_type": "code",
   "execution_count": 4,
   "metadata": {},
   "outputs": [
    {
     "data": {
      "image/png": "[encoded data removed]",
      "text/plain": [
       "<Figure size 640x480 with 1 Axes>"
      ]
     },
     "metadata": {},
     "output_type": "display_data"
    },
    {
     "name": "stdout",
     "output_type": "stream",
     "text": [
      "Confidence interval\n",
      "0.0250    3.860196\n",
      "0.0975    3.991588\n",
      "dtype: float64\n"
     ]
    }
   ],
   "source": [
    "# Your code\n",
    "salary = full_data['Salary']\n",
    "k = 10000\n",
    "n = len(salary_data)\n",
    "\n",
    "x = np.zeros(k)\n",
    "for i in range(k):\n",
    "    x_sample = salary.sample(n,replace=True)\n",
    "    x[i] = x_sample.mean()\n",
    "\n",
    "plt.hist(x,20)\n",
    "plt.show()\n",
    "print(\"Confidence interval\")\n",
    "print(pd.Series(x).quantile([0.025,0.0975]))"
   ]
  },
  {
   "cell_type": "markdown",
   "metadata": {},
   "source": [
    "### Engineering a bootstrap function"
   ]
  },
  {
   "cell_type": "markdown",
   "metadata": {},
   "source": [
    "Later on in the lab, we are going to apply the bootstrap to a different estimator, and also run it repeatedly. We'd therefore like to turn it into a function.\n",
    "\n",
    "**Exercise 02:** Write a function called bootstrap(), which takes as its input arguments:\n",
    "1. `x`: pd.Series()\n",
    "3. `estimator`: The function (e.g. `np.mean`) that you would like to get the bootstrap confidence intervals for. Note that you can pass functions as arguments to python functions.\n",
    "4. `quantiles`: An array containing the desired quantiles\n",
    "5. `plot`: Boolean indicating if a plot of the bootstrap distribution of the estimator should be shown. `False` by default.\n",
    " \n",
    "It should return:\n",
    "1. the quantiles\n",
    "2. the bootstrap standard deviation"
   ]
  },
  {
   "cell_type": "code",
   "execution_count": 5,
   "metadata": {},
   "outputs": [
    {
     "data": {
      "application/vnd.jupyter.widget-view+json": {
       "model_id": "09938a0158c348369525468ae4b1d6fa",
       "version_major": 2,
       "version_minor": 0
      },
      "text/plain": [
       "Tab(children=(Accordion(children=(Output(layout=Layout(border_bottom='1px solid blue', border_left='1px solid …"
      ]
     },
     "metadata": {},
     "output_type": "display_data"
    }
   ],
   "source": [
    "# Run this cell to be offered with hints and solution\n",
    "show(question=2)"
   ]
  },
  {
   "cell_type": "code",
   "execution_count": 6,
   "metadata": {},
   "outputs": [],
   "source": [
    "# Your code\n",
    "def bootstrap(x, k=1000, estimator=np.mean, quantiles=[0.025,0.975], plot=False):\n",
    "    n = len(x)\n",
    "    x_list = np.zeros(k)\n",
    "    for i in range(k):\n",
    "        x_sample = np.random.choice(x, n , replace=True)\n",
    "        x_list[i] = estimator(x_sample)\n",
    "\n",
    "    if (plot):\n",
    "        plt.hist(x_list, 20)\n",
    "        plt.show()\n",
    "    return(np.quantile(x_list, quantiles), np.std(x_list))\n",
    "\n",
    "        \n",
    "    \n",
    "    \n",
    "    "
   ]
  },
  {
   "cell_type": "markdown",
   "metadata": {},
   "source": [
    "### Testing the function"
   ]
  },
  {
   "cell_type": "markdown",
   "metadata": {},
   "source": [
    "When you want to deploy code you should always check that each function actually does what it is supposed to do. A good habit is to do what is called *unit testing* -  a method by which units of the code are checked for correctness. These are typically short code snippets that check automatically that the output of a function is as intended. In our setting, however, this would be overkill, and we can just check manually whether our function has the correct output on a known setting. In this, artificial, case we know the distribution, so we can estimate the SEM as $\\sigma_{\\overline{X}} = \\sigma/\\sqrt{n}$ . \n",
    "\n",
    "**Exercise 03:** \n",
    "- Compare the SEM computed from the full distribution with the bootstrap estimates.\n",
    "- Are they of a similar size? If so, good - if not, go back and check the bootstrap function.\n",
    "- Compare the quantiles produced by the function with the distribution produced with `plot=True`. Do the quantiles lie in the distribution?"
   ]
  },
  {
   "cell_type": "code",
   "execution_count": 7,
   "metadata": {},
   "outputs": [
    {
     "data": {
      "application/vnd.jupyter.widget-view+json": {
       "model_id": "2ce2a61752e348a993eda1ff58595181",
       "version_major": 2,
       "version_minor": 0
      },
      "text/plain": [
       "Tab(children=(Accordion(children=(Output(layout=Layout(border_bottom='1px solid blue', border_left='1px solid …"
      ]
     },
     "metadata": {},
     "output_type": "display_data"
    }
   ],
   "source": [
    "# Run this cell to be offered with hints and solution\n",
    "show(question=3)"
   ]
  },
  {
   "cell_type": "code",
   "execution_count": 8,
   "metadata": {},
   "outputs": [
    {
     "data": {
      "image/png": "[encoded data removed]",
      "text/plain": [
       "<Figure size 640x480 with 1 Axes>"
      ]
     },
     "metadata": {},
     "output_type": "display_data"
    },
    {
     "name": "stdout",
     "output_type": "stream",
     "text": [
      "0.21520274889613247 0.21358469587024848 [3.87925854 4.70234705]\n"
     ]
    }
   ],
   "source": [
    "# Your code\n",
    "SEM = np.std(salary, ddof=1)/np.sqrt(len(salary))\n",
    "ci, std = bootstrap(salary, plot=True)\n",
    "print(SEM, std, ci)"
   ]
  },
  {
   "cell_type": "markdown",
   "metadata": {},
   "source": [
    "Your answer:"
   ]
  },
  {
   "cell_type": "markdown",
   "metadata": {},
   "source": [
    "### Apply the bootstrap function to the median"
   ]
  },
  {
   "cell_type": "markdown",
   "metadata": {},
   "source": [
    "The bootstrap is very flexible - here we use it to find confidence intervals for the median, rather than the mean.\n",
    "\n",
    "**Exercise 04:** Apply your new bootstrap function to the confidence intervals of the median of the salaries, plotting the distribution."
   ]
  },
  {
   "cell_type": "code",
   "execution_count": 9,
   "metadata": {},
   "outputs": [
    {
     "data": {
      "application/vnd.jupyter.widget-view+json": {
       "model_id": "c427e9fa65024ed1a5a0646e9449ff6a",
       "version_major": 2,
       "version_minor": 0
      },
      "text/plain": [
       "Tab(children=(Accordion(children=(Output(layout=Layout(border_bottom='1px solid blue', border_left='1px solid …"
      ]
     },
     "metadata": {},
     "output_type": "display_data"
    }
   ],
   "source": [
    "# Run this cell to be offered with hints and solution\n",
    "show(question=4)"
   ]
  },
  {
   "cell_type": "code",
   "execution_count": 10,
   "metadata": {},
   "outputs": [
    {
     "data": {
      "image/png": "[encoded data removed]",
      "text/plain": [
       "<Figure size 640x480 with 1 Axes>"
      ]
     },
     "metadata": {},
     "output_type": "display_data"
    },
    {
     "data": {
      "text/plain": [
       "(array([2.        , 2.89535597]), 0.2451591668082899)"
      ]
     },
     "execution_count": 10,
     "metadata": {},
     "output_type": "execute_result"
    }
   ],
   "source": [
    "# Your code\n",
    "bootstrap(salary, 1000, estimator=np.median, plot=True)"
   ]
  },
  {
   "cell_type": "markdown",
   "metadata": {},
   "source": [
    "**Discussion:** Does the distribution of the sample median look as you would expect it to? If not, what is unusual about it? Can you explain why you're seeing this?"
   ]
  },
  {
   "cell_type": "markdown",
   "metadata": {},
   "source": [
    "Your answer:"
   ]
  },
  {
   "cell_type": "markdown",
   "metadata": {},
   "source": [
    "### Comparing the bootstrap and theoretical confidence intervals for the mean"
   ]
  },
  {
   "cell_type": "markdown",
   "metadata": {},
   "source": [
    "**Exercise 05:** Determine the confidence interval for *the mean* using the theoretical method (not the bootstrap), assuming a normal distribution of the mean. Compare it with the results you got in **Exercises 02 and 03**."
   ]
  },
  {
   "cell_type": "code",
   "execution_count": 11,
   "metadata": {},
   "outputs": [
    {
     "data": {
      "application/vnd.jupyter.widget-view+json": {
       "model_id": "9e96d59eef5541f08f2f45933c9f3685",
       "version_major": 2,
       "version_minor": 0
      },
      "text/plain": [
       "Tab(children=(Accordion(children=(Output(layout=Layout(border_bottom='1px solid blue', border_left='1px solid …"
      ]
     },
     "metadata": {},
     "output_type": "display_data"
    }
   ],
   "source": [
    "# Run this cell to be offered with hints and solution\n",
    "show(question=5)"
   ]
  },
  {
   "cell_type": "code",
   "execution_count": 12,
   "metadata": {},
   "outputs": [
    {
     "data": {
      "text/plain": [
       "[3.8479861290497253, 4.691565403470599]"
      ]
     },
     "execution_count": 12,
     "metadata": {},
     "output_type": "execute_result"
    }
   ],
   "source": [
    "# Your code\n",
    "SEM = salary.std(ddof=1)/np.sqrt(len(salary))\n",
    "xbar = salary.mean()\n",
    "\n",
    "z = norm.isf(0.025)\n",
    "ci = [xbar - z*SEM, xbar + z*SEM]\n",
    "ci\n"
   ]
  },
  {
   "cell_type": "markdown",
   "metadata": {},
   "source": [
    "Comment on your answer:"
   ]
  },
  {
   "cell_type": "markdown",
   "metadata": {},
   "source": [
    "## B. Bootstrap applied to linear regression -  output from other packages"
   ]
  },
  {
   "cell_type": "markdown",
   "metadata": {},
   "source": [
    "As we've said in the lectures, we can apply the bootstrap estimator to many different types of statistic, where by \"statistic\" we mean a value derived from the data. Above, for example, we have already used the median instead of the mean. Linear regression coefficients also count as statistics - so we should be able to used the bootstrap on them.\n",
    " \n",
    " **Exercise 06:** \n",
    " - Create a new column of `full_data` called `LogSalary`, which is the log to the base 10 of `Salary`.\n",
    " - Plot the `LogSalary` against the `Age`.\n",
    " - Fit a linear regression of the `LogSalary` to the `Age` using `statsmodels`. (See the linear regression lab).\n",
    " - Extract the best fitting `Intercept` parameter and slope parameter (called `Age`) from the result. Hint: use the `params` member variable."
   ]
  },
  {
   "cell_type": "code",
   "execution_count": 13,
   "metadata": {},
   "outputs": [
    {
     "data": {
      "application/vnd.jupyter.widget-view+json": {
       "model_id": "f66fbf6fe8764835aad39e3b4eab9719",
       "version_major": 2,
       "version_minor": 0
      },
      "text/plain": [
       "Tab(children=(Accordion(children=(Output(layout=Layout(border_bottom='1px solid blue', border_left='1px solid …"
      ]
     },
     "metadata": {},
     "output_type": "display_data"
    }
   ],
   "source": [
    "# Run this cell to be offered with hints and solution\n",
    "show(question=6)"
   ]
  },
  {
   "cell_type": "code",
   "execution_count": 16,
   "metadata": {},
   "outputs": [
    {
     "data": {
      "text/plain": [
       "Intercept   -0.797333\n",
       "Age          0.042749\n",
       "dtype: float64"
      ]
     },
     "execution_count": 16,
     "metadata": {},
     "output_type": "execute_result"
    },
    {
     "data": {
      "image/png": "[encoded data removed]",
      "text/plain": [
       "<Figure size 500x500 with 6 Axes>"
      ]
     },
     "metadata": {},
     "output_type": "display_data"
    }
   ],
   "source": [
    "# Your code\n",
    "full_data['LogSalary'] = np.log10(full_data['Salary'])\n",
    "sns.pairplot(full_data, vars=['Age','LogSalary'])\n",
    "model = smf.ols('LogSalary ~ Age' , data=full_data)\n",
    "results = model.fit()\n",
    "results.params"
   ]
  },
  {
   "cell_type": "markdown",
   "metadata": {},
   "source": [
    "**Exercise 07:** Now use the code from exercise 06 to:\n",
    "\n",
    "- Write a function `beta0hat` that, given a data frame `df` with the same format as `full_data` returns the fitted intercept. \n",
    "- Write a function `beta1hat` that returns the fitted slope (`Age`) parameter. \n",
    "- Test that it gets the correct results, when given `full_data` as an argument. "
   ]
  },
  {
   "cell_type": "code",
   "execution_count": 17,
   "metadata": {},
   "outputs": [
    {
     "data": {
      "application/vnd.jupyter.widget-view+json": {
       "model_id": "cbdbbb6142d6406eb3c545ed2a605afd",
       "version_major": 2,
       "version_minor": 0
      },
      "text/plain": [
       "Tab(children=(Accordion(), Accordion(children=(Output(layout=Layout(border_bottom='2px solid green', border_le…"
      ]
     },
     "metadata": {},
     "output_type": "display_data"
    }
   ],
   "source": [
    "# Run this cell to be offered with hints and solution\n",
    "show(question=7)"
   ]
  },
  {
   "cell_type": "code",
   "execution_count": 20,
   "metadata": {},
   "outputs": [
    {
     "name": "stdout",
     "output_type": "stream",
     "text": [
      "-0.7973333757451674\n",
      "0.04274912662568664\n"
     ]
    }
   ],
   "source": [
    "# Your code\n",
    "def beta0hat(df):\n",
    "    model = smf.ols('LogSalary ~ Age' , data=df)\n",
    "    results = model.fit()\n",
    "    return results.params['Intercept']\n",
    "\n",
    "def beta1hat(df):\n",
    "    model = smf.ols('LogSalary ~ Age' , data=df)\n",
    "    results = model.fit()\n",
    "    return results.params['Age']\n",
    "print(beta0hat(full_data))\n",
    "print(beta1hat(full_data))"
   ]
  },
  {
   "cell_type": "markdown",
   "metadata": {},
   "source": [
    "**Exercise 08:** \n",
    "- Write a function `bootstrap_df`, which is the same as `bootstrap`, but in which the estimator can take a DataFrame as an argument, and return a statistic (i.e., just like the function `beta0hat` does).\n",
    "- Write a function `salary_mean` that returns the mean of the `Salary` column of a data frame, and use it to verify that `bootstrap_df` gives similar results to the ones you obtained above."
   ]
  },
  {
   "cell_type": "code",
   "execution_count": 21,
   "metadata": {},
   "outputs": [
    {
     "data": {
      "application/vnd.jupyter.widget-view+json": {
       "model_id": "4b06b190acf1494cb43c72a8104b0c31",
       "version_major": 2,
       "version_minor": 0
      },
      "text/plain": [
       "Tab(children=(Accordion(), Accordion(children=(Output(layout=Layout(border_bottom='2px solid green', border_le…"
      ]
     },
     "metadata": {},
     "output_type": "display_data"
    }
   ],
   "source": [
    "# Run this cell to be offered with hints and solution\n",
    "show(question=8)"
   ]
  },
  {
   "cell_type": "code",
   "execution_count": 29,
   "metadata": {},
   "outputs": [
    {
     "data": {
      "text/plain": [
       "(array([3.87355868, 4.67869643]), 0.20683383089984567)"
      ]
     },
     "execution_count": 29,
     "metadata": {},
     "output_type": "execute_result"
    }
   ],
   "source": [
    "# Your code\n",
    "def bootstrap_df(df, k = 1000 , estimator = beta0hat, quantiles = [0.025,0.975], plot = False):\n",
    "    n = len(df)\n",
    "    x_list = np.zeros(k)\n",
    "    for i in range(k):\n",
    "        x_sample = df.sample(n,replace=True)\n",
    "        x_list[i] = estimator(x_sample)\n",
    "    if (plot):\n",
    "        plt.hist(x_list, 20)\n",
    "    return(np.quantile(x_list, quantiles), np.std(x_list))\n",
    "\n",
    "def salary_mean(df):\n",
    "    return df['Salary'].mean()\n",
    "\n",
    "bootstrap_df(full_data, estimator=salary_mean)"
   ]
  },
  {
   "cell_type": "markdown",
   "metadata": {},
   "source": [
    "**Exercise 09:**\n",
    "Now apply the `bootstrap_df` function to get confidence intervals of\n",
    "1. the `Intercept` coefficient $\\hat\\beta_0$ of the linear regression of `Age` on `LogSalary`\n",
    "2. the slope coefficient $\\hat\\beta_1$ of the linear regression of `Age` on `LogSalary`."
   ]
  },
  {
   "cell_type": "code",
   "execution_count": 34,
   "metadata": {},
   "outputs": [
    {
     "data": {
      "application/vnd.jupyter.widget-view+json": {
       "model_id": "f87b3cb64f524073924948569fdaf6f1",
       "version_major": 2,
       "version_minor": 0
      },
      "text/plain": [
       "Tab(children=(Accordion(), Accordion(children=(Output(layout=Layout(border_bottom='2px solid green', border_le…"
      ]
     },
     "metadata": {},
     "output_type": "display_data"
    }
   ],
   "source": [
    "# Run this cell to be offered with hints and solution\n",
    "show(question=9)"
   ]
  },
  {
   "cell_type": "code",
   "execution_count": 35,
   "metadata": {},
   "outputs": [
    {
     "name": "stdout",
     "output_type": "stream",
     "text": [
      "(array([-1.08678207, -0.5420301 ]), 0.14192013446412383)\n",
      "(array([0.03289021, 0.05330212]), 0.005410371560849095)\n"
     ]
    }
   ],
   "source": [
    "# Your code\n",
    "beta0_est = bootstrap_df(full_data, estimator=beta0hat)\n",
    "beta1_est = bootstrap_df(full_data, estimator=beta1hat)\n",
    "print(beta0_est)\n",
    "print(beta1_est)"
   ]
  },
  {
   "cell_type": "markdown",
   "metadata": {},
   "source": [
    "## C. Comparison of bootstrap and theoretical confidence interval"
   ]
  },
  {
   "cell_type": "markdown",
   "metadata": {},
   "source": [
    "In this example, we don't actually have to use the bootstrap to estimate the confidence intervals; statsmodels (and many other packages) can estimate the standard error of the sampling distribution of the estimator. Run the statsmodels fit again, but this time report all the output using the `summary`."
   ]
  },
  {
   "cell_type": "code",
   "execution_count": 37,
   "metadata": {},
   "outputs": [
    {
     "data": {
      "text/html": [
       "<table class=\"simpletable\">\n",
       "<caption>OLS Regression Results</caption>\n",
       "<tr>\n",
       "  <th>Dep. Variable:</th>        <td>LogSalary</td>    <th>  R-squared:         </th> <td>   0.094</td>\n",
       "</tr>\n",
       "<tr>\n",
       "  <th>Model:</th>                   <td>OLS</td>       <th>  Adj. R-squared:    </th> <td>   0.093</td>\n",
       "</tr>\n",
       "<tr>\n",
       "  <th>Method:</th>             <td>Least Squares</td>  <th>  F-statistic:       </th> <td>   51.14</td>\n",
       "</tr>\n",
       "<tr>\n",
       "  <th>Date:</th>             <td>Fri, 14 Feb 2025</td> <th>  Prob (F-statistic):</th> <td>3.15e-12</td>\n",
       "</tr>\n",
       "<tr>\n",
       "  <th>Time:</th>                 <td>16:37:50</td>     <th>  Log-Likelihood:    </th> <td> -407.87</td>\n",
       "</tr>\n",
       "<tr>\n",
       "  <th>No. Observations:</th>      <td>   492</td>      <th>  AIC:               </th> <td>   819.7</td>\n",
       "</tr>\n",
       "<tr>\n",
       "  <th>Df Residuals:</th>          <td>   490</td>      <th>  BIC:               </th> <td>   828.1</td>\n",
       "</tr>\n",
       "<tr>\n",
       "  <th>Df Model:</th>              <td>     1</td>      <th>                     </th>     <td> </td>   \n",
       "</tr>\n",
       "<tr>\n",
       "  <th>Covariance Type:</th>      <td>nonrobust</td>    <th>                     </th>     <td> </td>   \n",
       "</tr>\n",
       "</table>\n",
       "<table class=\"simpletable\">\n",
       "<tr>\n",
       "      <td></td>         <th>coef</th>     <th>std err</th>      <th>t</th>      <th>P>|t|</th>  <th>[0.025</th>    <th>0.975]</th>  \n",
       "</tr>\n",
       "<tr>\n",
       "  <th>Intercept</th> <td>   -0.7973</td> <td>    0.161</td> <td>   -4.965</td> <td> 0.000</td> <td>   -1.113</td> <td>   -0.482</td>\n",
       "</tr>\n",
       "<tr>\n",
       "  <th>Age</th>       <td>    0.0427</td> <td>    0.006</td> <td>    7.151</td> <td> 0.000</td> <td>    0.031</td> <td>    0.054</td>\n",
       "</tr>\n",
       "</table>\n",
       "<table class=\"simpletable\">\n",
       "<tr>\n",
       "  <th>Omnibus:</th>       <td>58.598</td> <th>  Durbin-Watson:     </th> <td>   0.147</td>\n",
       "</tr>\n",
       "<tr>\n",
       "  <th>Prob(Omnibus):</th> <td> 0.000</td> <th>  Jarque-Bera (JB):  </th> <td>  82.073</td>\n",
       "</tr>\n",
       "<tr>\n",
       "  <th>Skew:</th>          <td>-0.838</td> <th>  Prob(JB):          </th> <td>1.51e-18</td>\n",
       "</tr>\n",
       "<tr>\n",
       "  <th>Kurtosis:</th>      <td> 4.094</td> <th>  Cond. No.          </th> <td>    173.</td>\n",
       "</tr>\n",
       "</table><br/><br/>Notes:<br/>[1] Standard Errors assume that the covariance matrix of the errors is correctly specified."
      ],
      "text/latex": [
       "\\begin{center}\n",
       "\\begin{tabular}{lclc}\n",
       "\\toprule\n",
       "\\textbf{Dep. Variable:}    &    LogSalary     & \\textbf{  R-squared:         } &     0.094   \\\\\n",
       "\\textbf{Model:}            &       OLS        & \\textbf{  Adj. R-squared:    } &     0.093   \\\\\n",
       "\\textbf{Method:}           &  Least Squares   & \\textbf{  F-statistic:       } &     51.14   \\\\\n",
       "\\textbf{Date:}             & Fri, 14 Feb 2025 & \\textbf{  Prob (F-statistic):} &  3.15e-12   \\\\\n",
       "\\textbf{Time:}             &     16:37:50     & \\textbf{  Log-Likelihood:    } &   -407.87   \\\\\n",
       "\\textbf{No. Observations:} &         492      & \\textbf{  AIC:               } &     819.7   \\\\\n",
       "\\textbf{Df Residuals:}     &         490      & \\textbf{  BIC:               } &     828.1   \\\\\n",
       "\\textbf{Df Model:}         &           1      & \\textbf{                     } &             \\\\\n",
       "\\textbf{Covariance Type:}  &    nonrobust     & \\textbf{                     } &             \\\\\n",
       "\\bottomrule\n",
       "\\end{tabular}\n",
       "\\begin{tabular}{lcccccc}\n",
       "                   & \\textbf{coef} & \\textbf{std err} & \\textbf{t} & \\textbf{P$> |$t$|$} & \\textbf{[0.025} & \\textbf{0.975]}  \\\\\n",
       "\\midrule\n",
       "\\textbf{Intercept} &      -0.7973  &        0.161     &    -4.965  &         0.000        &       -1.113    &       -0.482     \\\\\n",
       "\\textbf{Age}       &       0.0427  &        0.006     &     7.151  &         0.000        &        0.031    &        0.054     \\\\\n",
       "\\bottomrule\n",
       "\\end{tabular}\n",
       "\\begin{tabular}{lclc}\n",
       "\\textbf{Omnibus:}       & 58.598 & \\textbf{  Durbin-Watson:     } &    0.147  \\\\\n",
       "\\textbf{Prob(Omnibus):} &  0.000 & \\textbf{  Jarque-Bera (JB):  } &   82.073  \\\\\n",
       "\\textbf{Skew:}          & -0.838 & \\textbf{  Prob(JB):          } & 1.51e-18  \\\\\n",
       "\\textbf{Kurtosis:}      &  4.094 & \\textbf{  Cond. No.          } &     173.  \\\\\n",
       "\\bottomrule\n",
       "\\end{tabular}\n",
       "%\\caption{OLS Regression Results}\n",
       "\\end{center}\n",
       "\n",
       "Notes: \\newline\n",
       " [1] Standard Errors assume that the covariance matrix of the errors is correctly specified."
      ],
      "text/plain": [
       "<class 'statsmodels.iolib.summary.Summary'>\n",
       "\"\"\"\n",
       "                            OLS Regression Results                            \n",
       "==============================================================================\n",
       "Dep. Variable:              LogSalary   R-squared:                       0.094\n",
       "Model:                            OLS   Adj. R-squared:                  0.093\n",
       "Method:                 Least Squares   F-statistic:                     51.14\n",
       "Date:                Fri, 14 Feb 2025   Prob (F-statistic):           3.15e-12\n",
       "Time:                        16:37:50   Log-Likelihood:                -407.87\n",
       "No. Observations:                 492   AIC:                             819.7\n",
       "Df Residuals:                     490   BIC:                             828.1\n",
       "Df Model:                           1                                         \n",
       "Covariance Type:            nonrobust                                         \n",
       "==============================================================================\n",
       "                 coef    std err          t      P>|t|      [0.025      0.975]\n",
       "------------------------------------------------------------------------------\n",
       "Intercept     -0.7973      0.161     -4.965      0.000      -1.113      -0.482\n",
       "Age            0.0427      0.006      7.151      0.000       0.031       0.054\n",
       "==============================================================================\n",
       "Omnibus:                       58.598   Durbin-Watson:                   0.147\n",
       "Prob(Omnibus):                  0.000   Jarque-Bera (JB):               82.073\n",
       "Skew:                          -0.838   Prob(JB):                     1.51e-18\n",
       "Kurtosis:                       4.094   Cond. No.                         173.\n",
       "==============================================================================\n",
       "\n",
       "Notes:\n",
       "[1] Standard Errors assume that the covariance matrix of the errors is correctly specified.\n",
       "\"\"\""
      ]
     },
     "execution_count": 37,
     "metadata": {},
     "output_type": "execute_result"
    }
   ],
   "source": [
    "model = smf.ols('LogSalary ~ Age', data=full_data)\n",
    "results = model.fit()\n",
    "results.summary()"
   ]
  },
  {
   "cell_type": "markdown",
   "metadata": {},
   "source": [
    "Look at the middle table of the results, containing the `Intercept` and `Age` variables. In the topic and lab on linear regression we learned how to interpret the `coeff` column. We should now be able to understand the `std err` and `[0.025` and `0.975]` columns. \n",
    "- `coeff`: best estimate of `Intercept` and `Age`\n",
    "- `std err`: the standard error of the estimators of `Intercept` and `Age`\n",
    "- `[0.025`: lower bound of the 95% confidence interval of the estimators of `Intercept` and `Age`\n",
    "- `0.025]`: upper bound of the 95% confidence interval of the estimators of `Intercept` and `Age`\n",
    "\n",
    "**Discussion**:\n",
    "- Are the standard errors reported here close to the bootstrap estimates? \n",
    "- Are the confidence intervals close to the bootstrap estimates?"
   ]
  },
  {
   "cell_type": "code",
   "execution_count": 38,
   "metadata": {},
   "outputs": [
    {
     "data": {
      "application/vnd.jupyter.widget-view+json": {
       "model_id": "98089cf4679e473d95e268cee015c5e1",
       "version_major": 2,
       "version_minor": 0
      },
      "text/plain": [
       "Tab(children=(Accordion(), Accordion(children=(Output(layout=Layout(border_bottom='2px solid green', border_le…"
      ]
     },
     "metadata": {},
     "output_type": "display_data"
    }
   ],
   "source": [
    "# Run this cell to be offered with hints and solution\n",
    "show(question=10)"
   ]
  },
  {
   "cell_type": "markdown",
   "metadata": {},
   "source": [
    "Your answer:\n"
   ]
  },
  {
   "cell_type": "markdown",
   "metadata": {},
   "source": [
    "You should find that the confidence intervals are close to the bootstrap estimates. If not, check your bootstrap code again!\n",
    "\n",
    "### The meaning of the `t` and `P>|t|` columns\n",
    "\n",
    "The `t` column contains the $t$ statistics for the estimator of the intercept $\\hat\\beta_0$ and estimator of the gradient $\\hat\\beta_1$. For any estimator $\\hat\\theta$ the $t$ statistic is defined: \n",
    "\n",
    "$$t = \\frac{\\hat\\theta - 0}{\\hat\\sigma_{\\hat\\theta}}$$\n",
    "\n",
    "Here $\\hat\\theta$ is the estimator for the parameter and $\\hat\\sigma_{\\hat\\sigma}$ is the estimated standard error of the estimator.  We replace $\\hat\\theta$ with $\\hat\\beta_0$ to get the $t$-statistic of the intercept and we replace $\\hat\\theta$ with $\\hat\\beta_1$ to get the $t$-statistic of the gradient.  You can check that for each of the intercept and the gradient `t` does indeed equal the coefficient divided by the corresponding standard error. \n",
    "\n",
    "The $t$ statistic measures how far the estimated parameter (i.e. the coefficient found by statsmodels) is from zero, in units of the standard error of the estimator. Intuitively, the larger $t$ is, the less likely it is that the true value of the coefficient could be zero. \n",
    "\n",
    "The `P>|t|` column has to do with a hypothesis test. The null and alternative hypotheses are:\n",
    "\n",
    "- H<sub>0</sub> The true value of the parameter is equal to zero\n",
    "\n",
    "- H<sub>a</sub>: The parameter is equal to something else\n",
    "\n",
    "Due to the duality between confidence intervals and hypothesis tests, to test the null hypothesis we can consider the area in the tail of the sampling distribution of the estimator beyond 0 to be the *p*-value. The larger $t$ is, the smaller the area in the tail will be. In the case of both the Age and the log Salary, this *p*-value `P>|t|` is 0.  \n",
    "\n",
    "**Discussion:** Is the null hypothesis rejected or not? Does this make sense when you compare the confidence intervals to 0?"
   ]
  },
  {
   "cell_type": "code",
   "execution_count": 39,
   "metadata": {},
   "outputs": [
    {
     "data": {
      "application/vnd.jupyter.widget-view+json": {
       "model_id": "c18fd40f0d384382802d6bd447c86546",
       "version_major": 2,
       "version_minor": 0
      },
      "text/plain": [
       "Tab(children=(Accordion(), Accordion(children=(Output(layout=Layout(border_bottom='2px solid green', border_le…"
      ]
     },
     "metadata": {},
     "output_type": "display_data"
    }
   ],
   "source": [
    "# Run this cell to be offered with hints and solution\n",
    "show(question=11)"
   ]
  },
  {
   "cell_type": "markdown",
   "metadata": {},
   "source": [
    "Your answer\n",
    "\n"
   ]
  }
 ],
 "metadata": {
  "kernelspec": {
   "display_name": "Python 3 (ipykernel)",
   "language": "python",
   "name": "python3"
  },
  "language_info": {
   "codemirror_mode": {
    "name": "ipython",
    "version": 3
   },
   "file_extension": ".py",
   "mimetype": "text/x-python",
   "name": "python",
   "nbconvert_exporter": "python",
   "pygments_lexer": "ipython3",
   "version": "3.11.9"
  }
 },
 "nbformat": 4,
 "nbformat_minor": 4
}
